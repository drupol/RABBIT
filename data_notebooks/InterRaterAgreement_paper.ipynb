{
 "cells": [
  {
   "cell_type": "code",
   "execution_count": 1,
   "id": "d2d97ff5-9016-4d4e-8776-1e4640416e10",
   "metadata": {},
   "outputs": [],
   "source": [
    "import pandas as pd\n",
    "from sklearn.metrics import cohen_kappa_score"
   ]
  },
  {
   "cell_type": "code",
   "execution_count": 2,
   "id": "7568c152-d303-4dcc-8448-826c58bbf14a",
   "metadata": {},
   "outputs": [],
   "source": [
    "all_contributors_gt = pd.read_excel('data/all_new_accounts.xlsx',index_col=0)[['account', 'R1', 'R2', 'R1_ad', 'R2_ad', 'acc_type']]"
   ]
  },
  {
   "cell_type": "code",
   "execution_count": 3,
   "id": "4b9afce7-01dd-4398-976f-9f58870963ea",
   "metadata": {},
   "outputs": [
    {
     "name": "stdout",
     "output_type": "stream",
     "text": [
      "Before discussion:\n",
      "Same: 561\n",
      "Not same: 68\n"
     ]
    }
   ],
   "source": [
    "print('Before discussion:')\n",
    "print('Same:',all_contributors_gt.dropna().query('R1 == R2').shape[0])\n",
    "print('Not same:',all_contributors_gt.dropna().query('R1 != R2').shape[0])"
   ]
  },
  {
   "cell_type": "code",
   "execution_count": 4,
   "id": "075e6306-70a4-4c25-a08a-0e4c4065d2a6",
   "metadata": {},
   "outputs": [
    {
     "name": "stdout",
     "output_type": "stream",
     "text": [
      "After discussion:\n",
      "Same: (616, 6)\n",
      "Not same: (13, 6)\n"
     ]
    }
   ],
   "source": [
    "print('After discussion:')\n",
    "print('Same:',all_contributors_gt.dropna().query('R1_ad == R2_ad').shape)\n",
    "print('Not same:',all_contributors_gt.dropna().query('R1_ad != R2_ad').shape)"
   ]
  },
  {
   "cell_type": "code",
   "execution_count": 5,
   "id": "1c7d3599-545a-4b55-9c5c-f6dbfacd7d31",
   "metadata": {},
   "outputs": [
    {
     "data": {
      "text/plain": [
       "0.7859698460275919"
      ]
     },
     "execution_count": 5,
     "metadata": {},
     "output_type": "execute_result"
    }
   ],
   "source": [
    "# before discussion\n",
    "r1 = all_contributors_gt.dropna().R1.to_list()\n",
    "r2 = all_contributors_gt.dropna().R2.to_list()\n",
    "cohen_kappa_score(r1, r2)"
   ]
  },
  {
   "cell_type": "code",
   "execution_count": 6,
   "id": "f688ccbc-f77d-431f-bdcc-93a36ac8687e",
   "metadata": {},
   "outputs": [
    {
     "data": {
      "text/plain": [
       "0.9568126841944037"
      ]
     },
     "execution_count": 6,
     "metadata": {},
     "output_type": "execute_result"
    }
   ],
   "source": [
    "#after discussion\n",
    "r1_ad = all_contributors_gt.dropna().R1_ad.to_list()\n",
    "r2_ad = all_contributors_gt.dropna().R2_ad.to_list()\n",
    "cohen_kappa_score(r1_ad, r2_ad)"
   ]
  },
  {
   "cell_type": "code",
   "execution_count": 7,
   "id": "767fb895-e1ca-4259-9fda-c4c9943fb927",
   "metadata": {},
   "outputs": [
    {
     "data": {
      "text/plain": [
       "acc_type_agg\n",
       "bot         410\n",
       "human       189\n",
       "ignore       24\n",
       "mixed         5\n",
       "not sure      1\n",
       "Name: count, dtype: int64"
      ]
     },
     "execution_count": 7,
     "metadata": {},
     "output_type": "execute_result"
    }
   ],
   "source": [
    "all_contributors_gt.acc_type_agg.value_counts()"
   ]
  },
  {
   "cell_type": "code",
   "execution_count": null,
   "id": "9e1bc290-272d-49e4-a266-b1d1e819aaf0",
   "metadata": {},
   "outputs": [],
   "source": []
  },
  {
   "cell_type": "code",
   "execution_count": null,
   "id": "c416de98-1748-4139-8680-e7a20a2d23b3",
   "metadata": {},
   "outputs": [],
   "source": []
  }
 ],
 "metadata": {
  "kernelspec": {
   "display_name": "Python 3 (ipykernel)",
   "language": "python",
   "name": "python3"
  },
  "language_info": {
   "codemirror_mode": {
    "name": "ipython",
    "version": 3
   },
   "file_extension": ".py",
   "mimetype": "text/x-python",
   "name": "python",
   "nbconvert_exporter": "python",
   "pygments_lexer": "ipython3",
   "version": "3.9.6"
  }
 },
 "nbformat": 4,
 "nbformat_minor": 5
}
